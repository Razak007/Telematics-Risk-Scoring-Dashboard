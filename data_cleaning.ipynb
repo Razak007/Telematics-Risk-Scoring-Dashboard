{
 "cells": [
  {
   "cell_type": "markdown",
   "id": "f0b5a60b-1c80-4d21-b936-0b8c447cea41",
   "metadata": {},
   "source": [
    "# Telematics Risk Scoring Analysis\r",
    "� *Author: Shaik Mohammad Naseer Hussain*  📅 *Date: June 2025* \n",
    "💡 *Goal: Clean and analyze telematics sensor data to extract behavior insights and detect risk anomalies.*\r\n"
   ]
  },
  {
   "cell_type": "markdown",
   "id": "3e7c21e2-ae60-4578-b193-d623b0dae37e",
   "metadata": {},
   "source": [
    "##  Dataset Overview\n",
    "\n",
    "This notebook uses simulated telematics data collected from 10 vehicles on October 8, 2016, in the UAE.\n",
    "\n",
    "### Key Features:\n",
    "- **Speed** (km/h)\n",
    "- **Engine Status**\n",
    "- **GPS Coordinates** (Latitude, Longitude)\n",
    "- **Fuel Level**\n",
    "- **Idle and Braking Flags**\n",
    "- **Timestamps (TimeUtc)**\n",
    "\n",
    "These metrics help us understand vehicle behavior and build scoring models.\n"
   ]
  },
  {
   "cell_type": "markdown",
   "id": "f98a4896-013a-46f2-b34d-4e93611ce656",
   "metadata": {},
   "source": [
    "##  Step 1: Import Required Libraries\n",
    "\n",
    "We begin by importing essential Python packages for data manipulation, visualization, and mapping.\n"
   ]
  },
  {
   "cell_type": "code",
   "execution_count": 3,
   "id": "3a8fb1db-1f60-4255-b57d-52c159d8776b",
   "metadata": {},
   "outputs": [
    {
     "name": "stdout",
     "output_type": "stream",
     "text": [
      "Collecting geopy\n",
      "  Downloading geopy-2.4.1-py3-none-any.whl.metadata (6.8 kB)\n",
      "Collecting geographiclib<3,>=1.52 (from geopy)\n",
      "  Downloading geographiclib-2.0-py3-none-any.whl.metadata (1.4 kB)\n",
      "Downloading geopy-2.4.1-py3-none-any.whl (125 kB)\n",
      "   ---------------------------------------- 0.0/125.4 kB ? eta -:--:--\n",
      "   ---------------------------------------- 0.0/125.4 kB ? eta -:--:--\n",
      "   ---------------------------------------- 0.0/125.4 kB ? eta -:--:--\n",
      "   ---------------------------------------- 0.0/125.4 kB ? eta -:--:--\n",
      "   --- ------------------------------------ 10.2/125.4 kB ? eta -:--:--\n",
      "   --- ------------------------------------ 10.2/125.4 kB ? eta -:--:--\n",
      "   --- ------------------------------------ 10.2/125.4 kB ? eta -:--:--\n",
      "   --- ------------------------------------ 10.2/125.4 kB ? eta -:--:--\n",
      "   ------------ -------------------------- 41.0/125.4 kB 150.6 kB/s eta 0:00:01\n",
      "   ------------------------------- ------ 102.4/125.4 kB 368.6 kB/s eta 0:00:01\n",
      "   -------------------------------------- 125.4/125.4 kB 408.5 kB/s eta 0:00:00\n",
      "Downloading geographiclib-2.0-py3-none-any.whl (40 kB)\n",
      "   ---------------------------------------- 0.0/40.3 kB ? eta -:--:--\n",
      "   ------------------------------ --------- 30.7/40.3 kB 1.3 MB/s eta 0:00:01\n",
      "   ---------------------------------------- 40.3/40.3 kB 640.1 kB/s eta 0:00:00\n",
      "Installing collected packages: geographiclib, geopy\n",
      "Successfully installed geographiclib-2.0 geopy-2.4.1\n"
     ]
    }
   ],
   "source": [
    "# Hi, I'm Naseer and this is the first step of my Telematics Risk Dashboard project.\n",
    "# In this part, I will import all the necessary libraries.\n",
    "\n",
    "import pandas as pd          # for data handling\n",
    "import numpy as np           # for numerical calculations\n",
    "import matplotlib.pyplot as plt  # for charts\n",
    "import seaborn as sns        # for visualizations\n",
    "!pip install geopy\n",
    "from geopy.distance import geodesic  # to calculate distance between GPS coordinates\n",
    "\n",
    "# Optional setting to display all columns of data when printing\n",
    "pd.set_option('display.max_columns', None)\n"
   ]
  },
  {
   "cell_type": "markdown",
   "id": "182214ef-f2ac-44c0-9bc4-40ca6e0b63d1",
   "metadata": {},
   "source": [
    "##  Step 2: Load Telematics Data\n",
    "\n",
    "We load the Excel file (`data.xlsx`) using `pandas`. The main sheet used is **DeviceStatus**.\n"
   ]
  },
  {
   "cell_type": "code",
   "execution_count": 6,
   "id": "9e3d5ba7-d21b-4b5f-804c-0fe5ea0224d2",
   "metadata": {},
   "outputs": [
    {
     "name": "stdout",
     "output_type": "stream",
     "text": [
      "✅ Data loaded successfully. Shape of dataset: (64094, 21)\n"
     ]
    }
   ],
   "source": [
    "# Now I will load the Excel file that contains telematics data.\n",
    "# The file is named 'data.xlsx' and I’m using the sheet named 'DeviceStatus'.\n",
    "\n",
    "df = pd.read_excel(r\"C:\\Users\\nasee\\Desktop\\Telematics-Risk-Scoring\\data\\data.xlsx\", sheet_name=\"DeviceStatus\")\n",
    "\n",
    "\n",
    "# Let me check the size of the dataset\n",
    "print(\"✅ Data loaded successfully. Shape of dataset:\", df.shape)\n"
   ]
  },
  {
   "cell_type": "markdown",
   "id": "475d8ea8-650c-40f1-82ec-2ff5c1f15dc1",
   "metadata": {},
   "source": [
    "## Step 3: First Look at the Data\n",
    "\n",
    "We inspect the shape of the dataset, display the first few rows, and review data types and null values.\n"
   ]
  },
  {
   "cell_type": "code",
   "execution_count": 7,
   "id": "d0bc4777-dbc7-48bb-8b6b-d8cfa5e36c69",
   "metadata": {},
   "outputs": [
    {
     "data": {
      "text/html": [
       "<div>\n",
       "<style scoped>\n",
       "    .dataframe tbody tr th:only-of-type {\n",
       "        vertical-align: middle;\n",
       "    }\n",
       "\n",
       "    .dataframe tbody tr th {\n",
       "        vertical-align: top;\n",
       "    }\n",
       "\n",
       "    .dataframe thead th {\n",
       "        text-align: right;\n",
       "    }\n",
       "</style>\n",
       "<table border=\"1\" class=\"dataframe\">\n",
       "  <thead>\n",
       "    <tr style=\"text-align: right;\">\n",
       "      <th></th>\n",
       "      <th>DeviceNumber</th>\n",
       "      <th>TimeUtc</th>\n",
       "      <th>Version</th>\n",
       "      <th>Mileage</th>\n",
       "      <th>Longitude</th>\n",
       "      <th>Latitude</th>\n",
       "      <th>Speed</th>\n",
       "      <th>EngineRPM</th>\n",
       "      <th>LockTrunk</th>\n",
       "      <th>LockHood</th>\n",
       "      <th>LockDriver</th>\n",
       "      <th>LockTPassenger</th>\n",
       "      <th>LockLeftRear</th>\n",
       "      <th>LockRightRear</th>\n",
       "      <th>LastSync</th>\n",
       "      <th>LastNumber</th>\n",
       "      <th>EngineOn</th>\n",
       "      <th>Temperature</th>\n",
       "      <th>FuelLevel</th>\n",
       "      <th>AlarmOn</th>\n",
       "      <th>SatellitesCount</th>\n",
       "    </tr>\n",
       "  </thead>\n",
       "  <tbody>\n",
       "    <tr>\n",
       "      <th>0</th>\n",
       "      <td>device_1</td>\n",
       "      <td>2016-10-08 00:00:00</td>\n",
       "      <td>87</td>\n",
       "      <td>639000</td>\n",
       "      <td>53.726430</td>\n",
       "      <td>23.126805</td>\n",
       "      <td>0</td>\n",
       "      <td>0</td>\n",
       "      <td>0</td>\n",
       "      <td>0</td>\n",
       "      <td>0</td>\n",
       "      <td>0</td>\n",
       "      <td>0</td>\n",
       "      <td>00:00:00</td>\n",
       "      <td>2016-10-08 00:00:00</td>\n",
       "      <td>13</td>\n",
       "      <td>0</td>\n",
       "      <td>38</td>\n",
       "      <td>0</td>\n",
       "      <td>0</td>\n",
       "      <td>9</td>\n",
       "    </tr>\n",
       "    <tr>\n",
       "      <th>1</th>\n",
       "      <td>device_2</td>\n",
       "      <td>2016-10-08 00:00:06</td>\n",
       "      <td>87</td>\n",
       "      <td>55341000</td>\n",
       "      <td>56.188661</td>\n",
       "      <td>25.518500</td>\n",
       "      <td>0</td>\n",
       "      <td>0</td>\n",
       "      <td>0</td>\n",
       "      <td>0</td>\n",
       "      <td>0</td>\n",
       "      <td>0</td>\n",
       "      <td>0</td>\n",
       "      <td>00:00:00</td>\n",
       "      <td>2016-10-08 00:00:06</td>\n",
       "      <td>22</td>\n",
       "      <td>0</td>\n",
       "      <td>42</td>\n",
       "      <td>0</td>\n",
       "      <td>0</td>\n",
       "      <td>9</td>\n",
       "    </tr>\n",
       "    <tr>\n",
       "      <th>2</th>\n",
       "      <td>device_1</td>\n",
       "      <td>2016-10-08 00:00:09</td>\n",
       "      <td>87</td>\n",
       "      <td>639000</td>\n",
       "      <td>53.726430</td>\n",
       "      <td>23.126805</td>\n",
       "      <td>0</td>\n",
       "      <td>0</td>\n",
       "      <td>0</td>\n",
       "      <td>0</td>\n",
       "      <td>0</td>\n",
       "      <td>0</td>\n",
       "      <td>0</td>\n",
       "      <td>00:00:00</td>\n",
       "      <td>2016-10-08 00:00:09</td>\n",
       "      <td>13</td>\n",
       "      <td>0</td>\n",
       "      <td>38</td>\n",
       "      <td>0</td>\n",
       "      <td>0</td>\n",
       "      <td>9</td>\n",
       "    </tr>\n",
       "    <tr>\n",
       "      <th>3</th>\n",
       "      <td>device_3</td>\n",
       "      <td>2016-10-08 00:00:18</td>\n",
       "      <td>87</td>\n",
       "      <td>227000</td>\n",
       "      <td>55.244163</td>\n",
       "      <td>25.205136</td>\n",
       "      <td>0</td>\n",
       "      <td>0</td>\n",
       "      <td>0</td>\n",
       "      <td>0</td>\n",
       "      <td>0</td>\n",
       "      <td>0</td>\n",
       "      <td>0</td>\n",
       "      <td>00:00:00</td>\n",
       "      <td>2016-10-08 00:00:18</td>\n",
       "      <td>21</td>\n",
       "      <td>0</td>\n",
       "      <td>43</td>\n",
       "      <td>0</td>\n",
       "      <td>0</td>\n",
       "      <td>4</td>\n",
       "    </tr>\n",
       "    <tr>\n",
       "      <th>4</th>\n",
       "      <td>device_4</td>\n",
       "      <td>2016-10-08 00:00:22</td>\n",
       "      <td>87</td>\n",
       "      <td>354000</td>\n",
       "      <td>55.399996</td>\n",
       "      <td>25.278216</td>\n",
       "      <td>0</td>\n",
       "      <td>0</td>\n",
       "      <td>0</td>\n",
       "      <td>0</td>\n",
       "      <td>0</td>\n",
       "      <td>0</td>\n",
       "      <td>0</td>\n",
       "      <td>00:00:00</td>\n",
       "      <td>2016-10-08 00:00:22</td>\n",
       "      <td>14</td>\n",
       "      <td>0</td>\n",
       "      <td>45</td>\n",
       "      <td>0</td>\n",
       "      <td>0</td>\n",
       "      <td>9</td>\n",
       "    </tr>\n",
       "  </tbody>\n",
       "</table>\n",
       "</div>"
      ],
      "text/plain": [
       "  DeviceNumber             TimeUtc  Version   Mileage  Longitude   Latitude  \\\n",
       "0     device_1 2016-10-08 00:00:00       87    639000  53.726430  23.126805   \n",
       "1     device_2 2016-10-08 00:00:06       87  55341000  56.188661  25.518500   \n",
       "2     device_1 2016-10-08 00:00:09       87    639000  53.726430  23.126805   \n",
       "3     device_3 2016-10-08 00:00:18       87    227000  55.244163  25.205136   \n",
       "4     device_4 2016-10-08 00:00:22       87    354000  55.399996  25.278216   \n",
       "\n",
       "   Speed  EngineRPM  LockTrunk  LockHood  LockDriver  LockTPassenger  \\\n",
       "0      0          0          0         0           0               0   \n",
       "1      0          0          0         0           0               0   \n",
       "2      0          0          0         0           0               0   \n",
       "3      0          0          0         0           0               0   \n",
       "4      0          0          0         0           0               0   \n",
       "\n",
       "   LockLeftRear LockRightRear            LastSync  LastNumber  EngineOn  \\\n",
       "0             0      00:00:00 2016-10-08 00:00:00          13         0   \n",
       "1             0      00:00:00 2016-10-08 00:00:06          22         0   \n",
       "2             0      00:00:00 2016-10-08 00:00:09          13         0   \n",
       "3             0      00:00:00 2016-10-08 00:00:18          21         0   \n",
       "4             0      00:00:00 2016-10-08 00:00:22          14         0   \n",
       "\n",
       "   Temperature  FuelLevel  AlarmOn  SatellitesCount  \n",
       "0           38          0        0                9  \n",
       "1           42          0        0                9  \n",
       "2           38          0        0                9  \n",
       "3           43          0        0                4  \n",
       "4           45          0        0                9  "
      ]
     },
     "execution_count": 7,
     "metadata": {},
     "output_type": "execute_result"
    }
   ],
   "source": [
    "# I want to see the first 5 rows of the dataset to understand what columns I have.\n",
    "\n",
    "df.head()\n"
   ]
  },
  {
   "cell_type": "code",
   "execution_count": 8,
   "id": "10fffa05-284f-4e42-a466-4f6eb3888c91",
   "metadata": {},
   "outputs": [
    {
     "data": {
      "text/plain": [
       "DeviceNumber               object\n",
       "TimeUtc            datetime64[ns]\n",
       "Version                     int64\n",
       "Mileage                     int64\n",
       "Longitude                 float64\n",
       "Latitude                  float64\n",
       "Speed                       int64\n",
       "EngineRPM                   int64\n",
       "LockTrunk                   int64\n",
       "LockHood                    int64\n",
       "LockDriver                  int64\n",
       "LockTPassenger              int64\n",
       "LockLeftRear                int64\n",
       "LockRightRear              object\n",
       "LastSync           datetime64[ns]\n",
       "LastNumber                  int64\n",
       "EngineOn                    int64\n",
       "Temperature                 int64\n",
       "FuelLevel                   int64\n",
       "AlarmOn                     int64\n",
       "SatellitesCount             int64\n",
       "dtype: object"
      ]
     },
     "execution_count": 8,
     "metadata": {},
     "output_type": "execute_result"
    }
   ],
   "source": [
    "# I will now check the data types of each column. This helps me know if any conversions are needed.\n",
    "\n",
    "df.dtypes\n"
   ]
  },
  {
   "cell_type": "code",
   "execution_count": 9,
   "id": "254e81f3-e8cf-4cc7-be89-23eb1e52a27f",
   "metadata": {},
   "outputs": [],
   "source": [
    "# TimeUtc and LastSync should be in datetime format for time-based calculations.\n",
    "\n",
    "df['TimeUtc'] = pd.to_datetime(df['TimeUtc'])\n",
    "df['LastSync'] = pd.to_datetime(df['LastSync'])\n"
   ]
  },
  {
   "cell_type": "markdown",
   "id": "fa69c37c-7e50-4b1c-b6d2-17700d66da77",
   "metadata": {},
   "source": [
    "## Step 4: Data Cleaning & Preprocessing\n",
    "\n",
    "We'll clean constant-value columns, convert timestamps, and prepare the dataset for further analysis.\n"
   ]
  },
  {
   "cell_type": "code",
   "execution_count": 10,
   "id": "4d542164-f75a-4baf-8479-cea010ede6d5",
   "metadata": {},
   "outputs": [
    {
     "name": "stdout",
     "output_type": "stream",
     "text": [
      "Total duplicate rows in dataset: 144\n"
     ]
    }
   ],
   "source": [
    "# I want to find out if there are any exact duplicate rows in the data.\n",
    "\n",
    "duplicate_count = df.duplicated().sum()\n",
    "print(\"Total duplicate rows in dataset:\", duplicate_count)\n"
   ]
  },
  {
   "cell_type": "code",
   "execution_count": 11,
   "id": "7db3cb39-3b3a-4285-95fe-c78ee7474da5",
   "metadata": {},
   "outputs": [
    {
     "name": "stdout",
     "output_type": "stream",
     "text": [
      "🧹 Missing values in each column:\n",
      "DeviceNumber       0\n",
      "TimeUtc            0\n",
      "Version            0\n",
      "Mileage            0\n",
      "Longitude          0\n",
      "Latitude           0\n",
      "Speed              0\n",
      "EngineRPM          0\n",
      "LockTrunk          0\n",
      "LockHood           0\n",
      "LockDriver         0\n",
      "LockTPassenger     0\n",
      "LockLeftRear       0\n",
      "LockRightRear      0\n",
      "LastSync           0\n",
      "LastNumber         0\n",
      "EngineOn           0\n",
      "Temperature        0\n",
      "FuelLevel          0\n",
      "AlarmOn            0\n",
      "SatellitesCount    0\n",
      "dtype: int64\n",
      "\n",
      "📌 Columns with missing values:\n",
      "Series([], dtype: int64)\n"
     ]
    }
   ],
   "source": [
    "# 🔍 Now I want to see if any columns have missing (null) values.\n",
    "# This is important because missing data can cause problems later.\n",
    "\n",
    "missing_values = df.isnull().sum()\n",
    "\n",
    "print(\"🧹 Missing values in each column:\")\n",
    "print(missing_values)\n",
    "\n",
    "# If you want to highlight only columns with missing values:\n",
    "print(\"\\n📌 Columns with missing values:\")\n",
    "print(missing_values[missing_values > 0])\n"
   ]
  },
  {
   "cell_type": "code",
   "execution_count": 27,
   "id": "64ac957c-a280-44c8-ae92-8aa1e23c1bbe",
   "metadata": {},
   "outputs": [
    {
     "name": "stdout",
     "output_type": "stream",
     "text": [
      " Unique values per column:\n",
      "DeviceNumber            10\n",
      "TimeUtc              39670\n",
      "Version                  2\n",
      "Mileage                869\n",
      "Longitude            28626\n",
      "Latitude             28330\n",
      "Speed                  191\n",
      "EngineRPM              912\n",
      "LockTrunk                2\n",
      "LockHood                 2\n",
      "LockDriver               2\n",
      "LockTPassenger           2\n",
      "LockLeftRear             2\n",
      "LockRightRear            2\n",
      "LastSync             39668\n",
      "LastNumber              10\n",
      "EngineOn                 2\n",
      "Temperature             34\n",
      "FuelLevel                1\n",
      "AlarmOn                  1\n",
      "SatellitesCount         11\n",
      "DistanceKM           30811\n",
      "IdleFlag                 2\n",
      "SpeedDiff              171\n",
      "HarshBraking             2\n",
      "HarshAcceleration        2\n",
      "dtype: int64\n"
     ]
    }
   ],
   "source": [
    "#  I want to see how many unique values are in each column.\n",
    "# This helps me understand if a column is constant, binary, or has many variations.\n",
    "\n",
    "print(\" Unique values per column:\")\n",
    "print(df.nunique())\n"
   ]
  },
  {
   "cell_type": "code",
   "execution_count": 13,
   "id": "c88da82e-6514-4c9a-b855-e4e77046e565",
   "metadata": {},
   "outputs": [
    {
     "name": "stdout",
     "output_type": "stream",
     "text": [
      "Descriptive statistics for numerical columns:\n",
      "                             TimeUtc       Version       Mileage  \\\n",
      "count                          64094  64094.000000  6.409400e+04   \n",
      "mean   2016-10-08 13:34:12.045620480     88.826286  7.515583e+06   \n",
      "min              2016-10-08 00:00:00     87.000000  1.100000e+04   \n",
      "25%    2016-10-08 09:35:52.249999872     87.000000  2.090000e+05   \n",
      "50%              2016-10-08 14:39:07     87.000000  2.980000e+05   \n",
      "75%    2016-10-08 17:24:08.750000128     94.000000  6.390000e+05   \n",
      "max              2016-10-08 23:59:53     94.000000  5.568600e+07   \n",
      "std                              NaN      3.073895  1.857002e+07   \n",
      "\n",
      "          Longitude      Latitude         Speed     EngineRPM     LockTrunk  \\\n",
      "count  64094.000000  64094.000000  64094.000000  64094.000000  64094.000000   \n",
      "mean      55.282033     24.914074     50.663697   1158.187241      0.003666   \n",
      "min       53.682016     23.118998      0.000000      0.000000      0.000000   \n",
      "25%       54.648119     24.503411      0.000000      0.000000      0.000000   \n",
      "50%       55.316528     25.119316     34.000000   1303.000000      0.000000   \n",
      "75%       55.871773     25.282276     96.000000   1862.000000      0.000000   \n",
      "max       56.358645     25.619051    214.000000   5487.000000      1.000000   \n",
      "std        0.746190      0.511866     52.336441    877.880735      0.060441   \n",
      "\n",
      "           LockHood    LockDriver  LockTPassenger  LockLeftRear  \\\n",
      "count  64094.000000  64094.000000    64094.000000  64094.000000   \n",
      "mean       0.007255      0.013309        0.005164      0.002855   \n",
      "min        0.000000      0.000000        0.000000      0.000000   \n",
      "25%        0.000000      0.000000        0.000000      0.000000   \n",
      "50%        0.000000      0.000000        0.000000      0.000000   \n",
      "75%        0.000000      0.000000        0.000000      0.000000   \n",
      "max        1.000000      1.000000        1.000000      1.000000   \n",
      "std        0.084867      0.114593        0.071678      0.053358   \n",
      "\n",
      "                            LastSync    LastNumber      EngineOn  \\\n",
      "count                          64094  64094.000000  64094.000000   \n",
      "mean   2016-10-08 13:34:12.044403456     19.748136      0.707711   \n",
      "min              2016-10-08 00:00:00     13.000000      0.000000   \n",
      "25%    2016-10-08 09:35:52.249999872     17.000000      0.000000   \n",
      "50%              2016-10-08 14:39:07     18.000000      1.000000   \n",
      "75%    2016-10-08 17:24:08.750000128     25.000000      1.000000   \n",
      "max              2016-10-08 23:59:53     27.000000      1.000000   \n",
      "std                              NaN      4.733085      0.454818   \n",
      "\n",
      "        Temperature  FuelLevel  AlarmOn  SatellitesCount  \n",
      "count  64094.000000    64094.0  64094.0     64094.000000  \n",
      "mean      38.859035        0.0      0.0         9.874060  \n",
      "min       28.000000        0.0      0.0         3.000000  \n",
      "25%       34.000000        0.0      0.0         9.000000  \n",
      "50%       38.000000        0.0      0.0        10.000000  \n",
      "75%       43.000000        0.0      0.0        11.000000  \n",
      "max       61.000000        0.0      0.0        13.000000  \n",
      "std        6.495656        0.0      0.0         1.353255  \n"
     ]
    }
   ],
   "source": [
    "# This step gives me statistics like mean, min, max, standard deviation for all numeric columns.\n",
    "\n",
    "print(\"Descriptive statistics for numerical columns:\")\n",
    "print(df.describe())\n"
   ]
  },
  {
   "cell_type": "code",
   "execution_count": 14,
   "id": "53e4cb20-6b04-4a42-8394-d365d8edacee",
   "metadata": {},
   "outputs": [
    {
     "name": "stdout",
     "output_type": "stream",
     "text": [
      "\n",
      " EngineOn value counts:\n",
      "EngineOn\n",
      "1    45360\n",
      "0    18734\n",
      "Name: count, dtype: int64\n",
      "\n",
      " AlarmOn value counts:\n",
      "AlarmOn\n",
      "0    64094\n",
      "Name: count, dtype: int64\n",
      "\n",
      " FuelLevel value counts:\n",
      "FuelLevel\n",
      "0    64094\n",
      "Name: count, dtype: int64\n"
     ]
    }
   ],
   "source": [
    "# I want to explore some columns that look like categories or status flags.\n",
    "# This will help me understand how frequent certain values are.\n",
    "\n",
    "print(\"\\n EngineOn value counts:\")\n",
    "print(df['EngineOn'].value_counts())\n",
    "\n",
    "print(\"\\n AlarmOn value counts:\")\n",
    "print(df['AlarmOn'].value_counts())\n",
    "\n",
    "print(\"\\n FuelLevel value counts:\")\n",
    "print(df['FuelLevel'].value_counts())\n"
   ]
  },
  {
   "cell_type": "code",
   "execution_count": 15,
   "id": "ed773be7-86aa-4a51-8a4a-e6ac2ca1a42f",
   "metadata": {},
   "outputs": [
    {
     "name": "stdout",
     "output_type": "stream",
     "text": [
      "Correlation matrix for numerical columns:\n",
      "                  Version   Mileage  Longitude  Latitude     Speed  EngineRPM  \\\n",
      "Version          1.000000 -0.232505  -0.256219 -0.136474  0.036836  -0.035139   \n",
      "Mileage         -0.232505  1.000000   0.249796  0.291596  0.158148   0.156271   \n",
      "Longitude       -0.256219  0.249796   1.000000  0.833289 -0.245780  -0.181599   \n",
      "Latitude        -0.136474  0.291596   0.833289  1.000000 -0.167538  -0.131734   \n",
      "Speed            0.036836  0.158148  -0.245780 -0.167538  1.000000   0.828038   \n",
      "EngineRPM       -0.035139  0.156271  -0.181599 -0.131734  0.828038   1.000000   \n",
      "LockTrunk        0.002169 -0.023704  -0.003897 -0.015227 -0.058724  -0.068365   \n",
      "LockHood         0.000704 -0.033867   0.059167  0.003892 -0.082755  -0.112784   \n",
      "LockDriver      -0.000789 -0.024074   0.020130 -0.000755 -0.111602  -0.113305   \n",
      "LockTPassenger   0.027086 -0.019238  -0.009238 -0.013551 -0.068998  -0.070984   \n",
      "LockLeftRear     0.025474 -0.014736  -0.024060 -0.031878 -0.050929  -0.057900   \n",
      "LastNumber       0.191015  0.176798   0.583330  0.378368 -0.087733  -0.065158   \n",
      "EngineOn        -0.030024  0.109031  -0.078308 -0.081275  0.622107   0.847862   \n",
      "Temperature      0.188262 -0.128697   0.234473  0.205905 -0.523801  -0.562346   \n",
      "FuelLevel             NaN       NaN        NaN       NaN       NaN        NaN   \n",
      "AlarmOn               NaN       NaN        NaN       NaN       NaN        NaN   \n",
      "SatellitesCount  0.047548  0.135361   0.084266  0.127323  0.217749   0.272184   \n",
      "\n",
      "                 LockTrunk  LockHood  LockDriver  LockTPassenger  \\\n",
      "Version           0.002169  0.000704   -0.000789        0.027086   \n",
      "Mileage          -0.023704 -0.033867   -0.024074       -0.019238   \n",
      "Longitude        -0.003897  0.059167    0.020130       -0.009238   \n",
      "Latitude         -0.015227  0.003892   -0.000755       -0.013551   \n",
      "Speed            -0.058724 -0.082755   -0.111602       -0.068998   \n",
      "EngineRPM        -0.068365 -0.112784   -0.113305       -0.070984   \n",
      "LockTrunk         1.000000  0.232068    0.245254        0.089266   \n",
      "LockHood          0.232068  1.000000    0.306122        0.099000   \n",
      "LockDriver        0.245254  0.306122    1.000000        0.267064   \n",
      "LockTPassenger    0.089266  0.099000    0.267064        1.000000   \n",
      "LockLeftRear      0.277353  0.071226    0.136681        0.163404   \n",
      "LastNumber       -0.027641 -0.027263   -0.017552        0.018643   \n",
      "EngineOn         -0.066015 -0.133021   -0.087017       -0.053245   \n",
      "Temperature       0.007079  0.064404    0.026101        0.003943   \n",
      "FuelLevel              NaN       NaN         NaN             NaN   \n",
      "AlarmOn                NaN       NaN         NaN             NaN   \n",
      "SatellitesCount  -0.014575 -0.076681   -0.055294       -0.061818   \n",
      "\n",
      "                 LockLeftRear  LastNumber  EngineOn  Temperature  FuelLevel  \\\n",
      "Version              0.025474    0.191015 -0.030024     0.188262        NaN   \n",
      "Mileage             -0.014736    0.176798  0.109031    -0.128697        NaN   \n",
      "Longitude           -0.024060    0.583330 -0.078308     0.234473        NaN   \n",
      "Latitude            -0.031878    0.378368 -0.081275     0.205905        NaN   \n",
      "Speed               -0.050929   -0.087733  0.622107    -0.523801        NaN   \n",
      "EngineRPM           -0.057900   -0.065158  0.847862    -0.562346        NaN   \n",
      "LockTrunk            0.277353   -0.027641 -0.066015     0.007079        NaN   \n",
      "LockHood             0.071226   -0.027263 -0.133021     0.064404        NaN   \n",
      "LockDriver           0.136681   -0.017552 -0.087017     0.026101        NaN   \n",
      "LockTPassenger       0.163404    0.018643 -0.053245     0.003943        NaN   \n",
      "LockLeftRear         1.000000    0.013288 -0.053047    -0.000459        NaN   \n",
      "LastNumber           0.013288    1.000000  0.049717     0.181071        NaN   \n",
      "EngineOn            -0.053047    0.049717  1.000000    -0.566630        NaN   \n",
      "Temperature         -0.000459    0.181071 -0.566630     1.000000        NaN   \n",
      "FuelLevel                 NaN         NaN       NaN          NaN        NaN   \n",
      "AlarmOn                   NaN         NaN       NaN          NaN        NaN   \n",
      "SatellitesCount     -0.039964    0.073487  0.308192    -0.022730        NaN   \n",
      "\n",
      "                 AlarmOn  SatellitesCount  \n",
      "Version              NaN         0.047548  \n",
      "Mileage              NaN         0.135361  \n",
      "Longitude            NaN         0.084266  \n",
      "Latitude             NaN         0.127323  \n",
      "Speed                NaN         0.217749  \n",
      "EngineRPM            NaN         0.272184  \n",
      "LockTrunk            NaN        -0.014575  \n",
      "LockHood             NaN        -0.076681  \n",
      "LockDriver           NaN        -0.055294  \n",
      "LockTPassenger       NaN        -0.061818  \n",
      "LockLeftRear         NaN        -0.039964  \n",
      "LastNumber           NaN         0.073487  \n",
      "EngineOn             NaN         0.308192  \n",
      "Temperature          NaN        -0.022730  \n",
      "FuelLevel            NaN              NaN  \n",
      "AlarmOn              NaN              NaN  \n",
      "SatellitesCount      NaN         1.000000  \n"
     ]
    },
    {
     "name": "stderr",
     "output_type": "stream",
     "text": [
      "C:\\Users\\nasee\\anaconda3\\Lib\\site-packages\\seaborn\\matrix.py:260: FutureWarning: Format strings passed to MaskedConstant are ignored, but in future may error or produce different behavior\n",
      "  annotation = (\"{:\" + self.fmt + \"}\").format(val)\n"
     ]
    },
    {
     "data": {
      "image/png": "[encoded data removed]",
      "text/plain": [
       "<Figure size 1200x800 with 2 Axes>"
      ]
     },
     "metadata": {},
     "output_type": "display_data"
    }
   ],
   "source": [
    "# Now I want to understand how different numeric columns relate to each other.\n",
    "# A correlation matrix shows which variables move together (positive or negative).\n",
    "\n",
    "print(\"Correlation matrix for numerical columns:\")\n",
    "correlation_matrix = df.corr(numeric_only=True)\n",
    "print(correlation_matrix)\n",
    "\n",
    "# Optional: heatmap for visual display of correlations\n",
    "plt.figure(figsize=(12, 8))\n",
    "sns.heatmap(correlation_matrix, annot=True, cmap='coolwarm', linewidths=0.5)\n",
    "plt.title(\"Correlation Matrix Heatmap\")\n",
    "plt.show()\n"
   ]
  },
  {
   "cell_type": "code",
   "execution_count": 16,
   "id": "011ebf0e-408c-493b-b505-ae9f15fa058f",
   "metadata": {},
   "outputs": [
    {
     "name": "stderr",
     "output_type": "stream",
     "text": [
      "C:\\Users\\nasee\\anaconda3\\Lib\\site-packages\\seaborn\\_oldcore.py:1119: FutureWarning: use_inf_as_na option is deprecated and will be removed in a future version. Convert inf values to NaN before operating instead.\n",
      "  with pd.option_context('mode.use_inf_as_na', True):\n"
     ]
    },
    {
     "data": {
      "image/png": "[encoded data removed]",
      "text/plain": [
       "<Figure size 800x400 with 1 Axes>"
      ]
     },
     "metadata": {},
     "output_type": "display_data"
    }
   ],
   "source": [
    "# 🏎I want to see how speed is distributed across the dataset.\n",
    "\n",
    "plt.figure(figsize=(8, 4))\n",
    "sns.histplot(df['Speed'], bins=30, kde=True, color='blue')\n",
    "plt.title(\"Speed Distribution\")\n",
    "plt.xlabel(\"Speed\")\n",
    "plt.ylabel(\"Frequency\")\n",
    "plt.grid(True)\n",
    "plt.tight_layout()\n",
    "plt.show()\n"
   ]
  },
  {
   "cell_type": "code",
   "execution_count": 17,
   "id": "1b913c7e-ce04-4007-bc8d-33bb7adfd2c8",
   "metadata": {},
   "outputs": [
    {
     "data": {
      "image/png": "[encoded data removed]",
      "text/plain": [
       "<Figure size 800x400 with 1 Axes>"
      ]
     },
     "metadata": {},
     "output_type": "display_data"
    }
   ],
   "source": [
    "# This shows me the spread of Engine RPMs and helps identify outliers.\n",
    "\n",
    "plt.figure(figsize=(8, 4))\n",
    "sns.boxplot(x=df['EngineRPM'], color='orange')\n",
    "plt.title(\"Engine RPM Boxplot\")\n",
    "plt.xlabel(\"RPM\")\n",
    "plt.grid(True)\n",
    "plt.tight_layout()\n",
    "plt.show()\n"
   ]
  },
  {
   "cell_type": "code",
   "execution_count": 18,
   "id": "370b9e3d-a2c0-4dc5-a318-0e4a0692f483",
   "metadata": {},
   "outputs": [],
   "source": [
    "# First, I want to make sure the data is sorted by each vehicle and its timestamp.\n",
    "# This is important before calculating distance or speed changes.\n",
    "\n",
    "df = df.sort_values(by=['DeviceNumber', 'TimeUtc']).reset_index(drop=True)\n"
   ]
  },
  {
   "cell_type": "code",
   "execution_count": 19,
   "id": "fdfe8ef6-1258-4405-97c3-50eb71e08a71",
   "metadata": {},
   "outputs": [],
   "source": [
    "# I will now calculate how much distance each device travels between two points using geopy.\n",
    "\n",
    "# First, create an empty column\n",
    "df['DistanceKM'] = 0.0\n",
    "\n",
    "# Loop through each row for each device\n",
    "for device in df['DeviceNumber'].unique():\n",
    "    temp = df[df['DeviceNumber'] == device]\n",
    "    indices = temp.index\n",
    "\n",
    "    for i in range(1, len(indices)):\n",
    "        prev_idx = indices[i - 1]\n",
    "        curr_idx = indices[i]\n",
    "\n",
    "        # Get previous and current GPS coordinates\n",
    "        prev_coords = (df.loc[prev_idx, 'Latitude'], df.loc[prev_idx, 'Longitude'])\n",
    "        curr_coords = (df.loc[curr_idx, 'Latitude'], df.loc[curr_idx, 'Longitude'])\n",
    "\n",
    "        # Calculate distance in kilometers\n",
    "        dist = geodesic(prev_coords, curr_coords).kilometers\n",
    "        df.at[curr_idx, 'DistanceKM'] = dist\n"
   ]
  },
  {
   "cell_type": "code",
   "execution_count": 20,
   "id": "ec331a59-3856-4a46-bce9-05a84dd3d047",
   "metadata": {},
   "outputs": [
    {
     "name": "stdout",
     "output_type": "stream",
     "text": [
      "Total idle records: 2612\n"
     ]
    }
   ],
   "source": [
    "# I want to know when the vehicle engine is ON but the vehicle is not moving (Speed = 0).\n",
    "\n",
    "df['IdleFlag'] = ((df['EngineOn'] == 1) & (df['Speed'] == 0)).astype(int)\n",
    "\n",
    "# This will give 1 if vehicle is idling, 0 otherwise\n",
    "print(\"Total idle records:\", df['IdleFlag'].sum())\n"
   ]
  },
  {
   "cell_type": "code",
   "execution_count": 21,
   "id": "113e32eb-866c-4feb-8bc5-e181a7a0a089",
   "metadata": {},
   "outputs": [
    {
     "name": "stdout",
     "output_type": "stream",
     "text": [
      "Total harsh braking events: 1352\n",
      "Total harsh acceleration events: 989\n"
     ]
    }
   ],
   "source": [
    "# I'll now calculate changes in speed to detect sudden braking or acceleration.\n",
    "# First, calculate speed difference for each device.\n",
    "\n",
    "df['SpeedDiff'] = df.groupby('DeviceNumber')['Speed'].diff()\n",
    "\n",
    "# Flag harsh braking (sudden negative speed drop > 20 km/h)\n",
    "df['HarshBraking'] = ((df['SpeedDiff'] < -20)).astype(int)\n",
    "\n",
    "# Flag harsh acceleration (sudden increase > 20 km/h)\n",
    "df['HarshAcceleration'] = ((df['SpeedDiff'] > 20)).astype(int)\n",
    "\n",
    "print(\"Total harsh braking events:\", df['HarshBraking'].sum())\n",
    "print(\"Total harsh acceleration events:\", df['HarshAcceleration'].sum())\n"
   ]
  },
  {
   "cell_type": "code",
   "execution_count": 22,
   "id": "282a0c31-eda1-427a-a5fd-794d0c95a83a",
   "metadata": {},
   "outputs": [
    {
     "data": {
      "text/html": [
       "<div>\n",
       "<style scoped>\n",
       "    .dataframe tbody tr th:only-of-type {\n",
       "        vertical-align: middle;\n",
       "    }\n",
       "\n",
       "    .dataframe tbody tr th {\n",
       "        vertical-align: top;\n",
       "    }\n",
       "\n",
       "    .dataframe thead th {\n",
       "        text-align: right;\n",
       "    }\n",
       "</style>\n",
       "<table border=\"1\" class=\"dataframe\">\n",
       "  <thead>\n",
       "    <tr style=\"text-align: right;\">\n",
       "      <th></th>\n",
       "      <th>DeviceNumber</th>\n",
       "      <th>TotalDistanceKM</th>\n",
       "      <th>TotalIdleEvents</th>\n",
       "      <th>TotalBrakes</th>\n",
       "      <th>TotalAccelerations</th>\n",
       "    </tr>\n",
       "  </thead>\n",
       "  <tbody>\n",
       "    <tr>\n",
       "      <th>0</th>\n",
       "      <td>device_1</td>\n",
       "      <td>516.819568</td>\n",
       "      <td>353</td>\n",
       "      <td>186</td>\n",
       "      <td>144</td>\n",
       "    </tr>\n",
       "    <tr>\n",
       "      <th>1</th>\n",
       "      <td>device_10</td>\n",
       "      <td>204.965559</td>\n",
       "      <td>584</td>\n",
       "      <td>270</td>\n",
       "      <td>146</td>\n",
       "    </tr>\n",
       "    <tr>\n",
       "      <th>2</th>\n",
       "      <td>device_2</td>\n",
       "      <td>505.338284</td>\n",
       "      <td>251</td>\n",
       "      <td>233</td>\n",
       "      <td>156</td>\n",
       "    </tr>\n",
       "    <tr>\n",
       "      <th>3</th>\n",
       "      <td>device_3</td>\n",
       "      <td>47.219227</td>\n",
       "      <td>119</td>\n",
       "      <td>31</td>\n",
       "      <td>22</td>\n",
       "    </tr>\n",
       "    <tr>\n",
       "      <th>4</th>\n",
       "      <td>device_4</td>\n",
       "      <td>77.363866</td>\n",
       "      <td>168</td>\n",
       "      <td>109</td>\n",
       "      <td>100</td>\n",
       "    </tr>\n",
       "  </tbody>\n",
       "</table>\n",
       "</div>"
      ],
      "text/plain": [
       "  DeviceNumber  TotalDistanceKM  TotalIdleEvents  TotalBrakes  \\\n",
       "0     device_1       516.819568              353          186   \n",
       "1    device_10       204.965559              584          270   \n",
       "2     device_2       505.338284              251          233   \n",
       "3     device_3        47.219227              119           31   \n",
       "4     device_4        77.363866              168          109   \n",
       "\n",
       "   TotalAccelerations  \n",
       "0                 144  \n",
       "1                 146  \n",
       "2                 156  \n",
       "3                  22  \n",
       "4                 100  "
      ]
     },
     "execution_count": 22,
     "metadata": {},
     "output_type": "execute_result"
    }
   ],
   "source": [
    "# I want to summarize driving behavior for each driver (DeviceNumber)\n",
    "\n",
    "risk_summary = df.groupby('DeviceNumber').agg({\n",
    "    'DistanceKM': 'sum',\n",
    "    'IdleFlag': 'sum',\n",
    "    'HarshBraking': 'sum',\n",
    "    'HarshAcceleration': 'sum'\n",
    "}).reset_index()\n",
    "\n",
    "# Rename columns for clarity\n",
    "risk_summary.columns = ['DeviceNumber', 'TotalDistanceKM', 'TotalIdleEvents', 'TotalBrakes', 'TotalAccelerations']\n",
    "\n",
    "# Preview the summary\n",
    "risk_summary.head()\n"
   ]
  },
  {
   "cell_type": "code",
   "execution_count": 24,
   "id": "f187d944-163e-4d82-8b40-52a9a46888a3",
   "metadata": {},
   "outputs": [],
   "source": [
    "# To avoid bias due to long trips, I’ll calculate ratios per 100 km\n",
    "\n",
    "risk_summary['BrakesPer100KM'] = (risk_summary['TotalBrakes'] / risk_summary['TotalDistanceKM']) * 100\n",
    "risk_summary['AccelerationsPer100KM'] = (risk_summary['TotalAccelerations'] / risk_summary['TotalDistanceKM']) * 100\n",
    "risk_summary['IdlePer100KM'] = (risk_summary['TotalIdleEvents'] / risk_summary['TotalDistanceKM']) * 100\n",
    "\n",
    "# Fill any NaN (due to 0 distance) with 0\n",
    "risk_summary.fillna(0, inplace=True)\n"
   ]
  },
  {
   "cell_type": "code",
   "execution_count": 25,
   "id": "7424d73a-2c03-46d4-a696-b8c1cda90228",
   "metadata": {},
   "outputs": [
    {
     "data": {
      "text/html": [
       "<div>\n",
       "<style scoped>\n",
       "    .dataframe tbody tr th:only-of-type {\n",
       "        vertical-align: middle;\n",
       "    }\n",
       "\n",
       "    .dataframe tbody tr th {\n",
       "        vertical-align: top;\n",
       "    }\n",
       "\n",
       "    .dataframe thead th {\n",
       "        text-align: right;\n",
       "    }\n",
       "</style>\n",
       "<table border=\"1\" class=\"dataframe\">\n",
       "  <thead>\n",
       "    <tr style=\"text-align: right;\">\n",
       "      <th></th>\n",
       "      <th>DeviceNumber</th>\n",
       "      <th>RiskScore</th>\n",
       "    </tr>\n",
       "  </thead>\n",
       "  <tbody>\n",
       "    <tr>\n",
       "      <th>9</th>\n",
       "      <td>device_9</td>\n",
       "      <td>100.000000</td>\n",
       "    </tr>\n",
       "    <tr>\n",
       "      <th>4</th>\n",
       "      <td>device_4</td>\n",
       "      <td>70.262377</td>\n",
       "    </tr>\n",
       "    <tr>\n",
       "      <th>1</th>\n",
       "      <td>device_10</td>\n",
       "      <td>69.936868</td>\n",
       "    </tr>\n",
       "    <tr>\n",
       "      <th>3</th>\n",
       "      <td>device_3</td>\n",
       "      <td>50.781763</td>\n",
       "    </tr>\n",
       "    <tr>\n",
       "      <th>5</th>\n",
       "      <td>device_5</td>\n",
       "      <td>36.014541</td>\n",
       "    </tr>\n",
       "  </tbody>\n",
       "</table>\n",
       "</div>"
      ],
      "text/plain": [
       "  DeviceNumber   RiskScore\n",
       "9     device_9  100.000000\n",
       "4     device_4   70.262377\n",
       "1    device_10   69.936868\n",
       "3     device_3   50.781763\n",
       "5     device_5   36.014541"
      ]
     },
     "execution_count": 25,
     "metadata": {},
     "output_type": "execute_result"
    }
   ],
   "source": [
    "# I’ll combine all metrics into a final score using weighted formula (adjustable)\n",
    "\n",
    "risk_summary['RiskScore'] = (\n",
    "    0.4 * risk_summary['BrakesPer100KM'] +\n",
    "    0.3 * risk_summary['AccelerationsPer100KM'] +\n",
    "    0.3 * risk_summary['IdlePer100KM']\n",
    ")\n",
    "\n",
    "# Scale risk score to 0–100 range (optional)\n",
    "max_score = risk_summary['RiskScore'].max()\n",
    "risk_summary['RiskScore'] = (risk_summary['RiskScore'] / max_score) * 100\n",
    "\n",
    "# Preview\n",
    "risk_summary[['DeviceNumber', 'RiskScore']].sort_values(by='RiskScore', ascending=False).head()\n"
   ]
  },
  {
   "cell_type": "code",
   "execution_count": 26,
   "id": "3900002e-cfe1-4e0d-986b-cf8eaf6ff471",
   "metadata": {},
   "outputs": [
    {
     "name": "stdout",
     "output_type": "stream",
     "text": [
      "Data saved to your desktop project folder successfully!\n"
     ]
    }
   ],
   "source": [
    "# Save the full dataset with new features to your folder\n",
    "df.to_csv(r\"C:\\Users\\nasee\\Desktop\\Telematics-Risk-Scoring\\data\\cleaned_telematics_data.csv\", index=False)\n",
    "\n",
    "# Save the risk score summary per driver\n",
    "risk_summary.to_csv(r\"C:\\Users\\nasee\\Desktop\\Telematics-Risk-Scoring\\data\\driver_risk_scores.csv\", index=False)\n",
    "\n",
    "print(\"Data saved to your desktop project folder successfully!\")\n"
   ]
  },
  {
   "cell_type": "code",
   "execution_count": null,
   "id": "c83677b8-a012-447b-bc69-c4207f9522a5",
   "metadata": {},
   "outputs": [],
   "source": []
  }
 ],
 "metadata": {
  "kernelspec": {
   "display_name": "Python [conda env:base] *",
   "language": "python",
   "name": "conda-base-py"
  },
  "language_info": {
   "codemirror_mode": {
    "name": "ipython",
    "version": 3
   },
   "file_extension": ".py",
   "mimetype": "text/x-python",
   "name": "python",
   "nbconvert_exporter": "python",
   "pygments_lexer": "ipython3",
   "version": "3.11.7"
  }
 },
 "nbformat": 4,
 "nbformat_minor": 5
}
